{
  "nbformat": 4,
  "nbformat_minor": 0,
  "metadata": {
    "colab": {
      "provenance": [],
      "authorship_tag": "ABX9TyNs9p3vIB+0R/0fj3j4oozo",
      "include_colab_link": true
    },
    "kernelspec": {
      "name": "python3",
      "display_name": "Python 3"
    },
    "language_info": {
      "name": "python"
    }
  },
  "cells": [
    {
      "cell_type": "markdown",
      "metadata": {
        "id": "view-in-github",
        "colab_type": "text"
      },
      "source": [
        "<a href=\"https://colab.research.google.com/github/deekshhh37/23071A3216-OS-4/blob/main/GNN_for_FRP.ipynb\" target=\"_parent\"><img src=\"https://colab.research.google.com/assets/colab-badge.svg\" alt=\"Open In Colab\"/></a>"
      ]
    },
    {
      "cell_type": "code",
      "execution_count": null,
      "metadata": {
        "colab": {
          "base_uri": "https://localhost:8080/",
          "height": 628
        },
        "id": "aCe9FdHZUqB2",
        "outputId": "1905ccef-2327-4f8d-9631-fdc6eebb3af7"
      },
      "outputs": [
        {
          "output_type": "stream",
          "name": "stdout",
          "text": [
            "Collecting numpy==1.24.4\n",
            "  Using cached numpy-1.24.4-cp311-cp311-manylinux_2_17_x86_64.manylinux2014_x86_64.whl.metadata (5.6 kB)\n",
            "Using cached numpy-1.24.4-cp311-cp311-manylinux_2_17_x86_64.manylinux2014_x86_64.whl (17.3 MB)\n",
            "Installing collected packages: numpy\n",
            "  Attempting uninstall: numpy\n",
            "    Found existing installation: numpy 1.24.4\n",
            "    Uninstalling numpy-1.24.4:\n",
            "      Successfully uninstalled numpy-1.24.4\n",
            "\u001b[31mERROR: pip's dependency resolver does not currently take into account all the packages that are installed. This behaviour is the source of the following dependency conflicts.\n",
            "pymc 5.23.0 requires numpy>=1.25.0, but you have numpy 1.24.4 which is incompatible.\n",
            "jaxlib 0.5.1 requires numpy>=1.25, but you have numpy 1.24.4 which is incompatible.\n",
            "xarray-einstats 0.9.0 requires numpy>=1.25, but you have numpy 1.24.4 which is incompatible.\n",
            "treescope 0.1.9 requires numpy>=1.25.2, but you have numpy 1.24.4 which is incompatible.\n",
            "jax 0.5.2 requires numpy>=1.25, but you have numpy 1.24.4 which is incompatible.\n",
            "tensorflow 2.18.0 requires numpy<2.1.0,>=1.26.0, but you have numpy 1.24.4 which is incompatible.\n",
            "blosc2 3.3.4 requires numpy>=1.26, but you have numpy 1.24.4 which is incompatible.\n",
            "thinc 8.3.6 requires numpy<3.0.0,>=2.0.0, but you have numpy 1.24.4 which is incompatible.\u001b[0m\u001b[31m\n",
            "\u001b[0mSuccessfully installed numpy-1.24.4\n"
          ]
        },
        {
          "output_type": "display_data",
          "data": {
            "application/vnd.colab-display-data+json": {
              "pip_warning": {
                "packages": [
                  "numpy"
                ]
              },
              "id": "2b2726f80c35476fbf3691acdb5ae3c7"
            }
          },
          "metadata": {}
        },
        {
          "output_type": "stream",
          "name": "stdout",
          "text": [
            "Collecting rdkit-pypi\n",
            "  Using cached rdkit_pypi-2022.9.5-cp311-cp311-manylinux_2_17_x86_64.manylinux2014_x86_64.whl.metadata (3.9 kB)\n",
            "Requirement already satisfied: numpy in /usr/local/lib/python3.11/dist-packages (from rdkit-pypi) (1.24.4)\n",
            "Requirement already satisfied: Pillow in /usr/local/lib/python3.11/dist-packages (from rdkit-pypi) (11.2.1)\n",
            "Downloading rdkit_pypi-2022.9.5-cp311-cp311-manylinux_2_17_x86_64.manylinux2014_x86_64.whl (29.4 MB)\n",
            "\u001b[2K   \u001b[90m━━━━━━━━━━━━━━━━━━━━━━━━━━━━━━━━━━━━━━━━\u001b[0m \u001b[32m29.4/29.4 MB\u001b[0m \u001b[31m26.8 MB/s\u001b[0m eta \u001b[36m0:00:00\u001b[0m\n",
            "\u001b[?25hInstalling collected packages: rdkit-pypi\n",
            "^C\n",
            "^C\n",
            "^C\n"
          ]
        }
      ],
      "source": [
        "!pip install numpy==1.24.4 --force-reinstall\n",
        "\n",
        "!pip install rdkit-pypi\n",
        "\n",
        "!pip install torch torchvision torchaudio --index-url https://download.pytorch.org/whl/cpu\n",
        "\n",
        "!pip install torch-scatter -f https://data.pyg.org/whl/torch-2.0.0+cpu.html\n",
        "!pip install torch-sparse -f https://data.pyg.org/whl/torch-2.0.0+cpu.html\n",
        "!pip install torch-geometric\n"
      ]
    },
    {
      "cell_type": "code",
      "source": [
        "!pip install rdkit-pypi\n",
        "\n",
        "!pip install torch torchvision torchaudio --index-url https://download.pytorch.org/whl/cpu\n",
        "\n",
        "!pip install torch-scatter -f https://data.pyg.org/whl/torch-2.0.0+cpu.html\n",
        "!pip install torch-sparse -f https://data.pyg.org/whl/torch-2.0.0+cpu.html\n",
        "!pip install torch-geometric"
      ],
      "metadata": {
        "colab": {
          "base_uri": "https://localhost:8080/"
        },
        "id": "mASC9C8xVdd9",
        "outputId": "16ad384b-a726-4788-f2eb-63135aacff8c"
      },
      "execution_count": 1,
      "outputs": [
        {
          "output_type": "stream",
          "name": "stdout",
          "text": [
            "Requirement already satisfied: rdkit-pypi in /usr/local/lib/python3.11/dist-packages (2022.9.5)\n",
            "Requirement already satisfied: numpy in /usr/local/lib/python3.11/dist-packages (from rdkit-pypi) (1.24.4)\n",
            "Requirement already satisfied: Pillow in /usr/local/lib/python3.11/dist-packages (from rdkit-pypi) (11.2.1)\n",
            "Looking in indexes: https://download.pytorch.org/whl/cpu\n",
            "Requirement already satisfied: torch in /usr/local/lib/python3.11/dist-packages (2.6.0+cu124)\n",
            "Requirement already satisfied: torchvision in /usr/local/lib/python3.11/dist-packages (0.21.0+cu124)\n",
            "Requirement already satisfied: torchaudio in /usr/local/lib/python3.11/dist-packages (2.6.0+cu124)\n",
            "Requirement already satisfied: filelock in /usr/local/lib/python3.11/dist-packages (from torch) (3.18.0)\n",
            "Requirement already satisfied: typing-extensions>=4.10.0 in /usr/local/lib/python3.11/dist-packages (from torch) (4.14.0)\n",
            "Requirement already satisfied: networkx in /usr/local/lib/python3.11/dist-packages (from torch) (3.5)\n",
            "Requirement already satisfied: jinja2 in /usr/local/lib/python3.11/dist-packages (from torch) (3.1.6)\n",
            "Requirement already satisfied: fsspec in /usr/local/lib/python3.11/dist-packages (from torch) (2025.3.2)\n",
            "INFO: pip is looking at multiple versions of torch to determine which version is compatible with other requirements. This could take a while.\n",
            "Collecting torch\n",
            "  Downloading https://download.pytorch.org/whl/cpu/torch-2.7.1%2Bcpu-cp311-cp311-manylinux_2_28_x86_64.whl.metadata (27 kB)\n",
            "Collecting sympy>=1.13.3 (from torch)\n",
            "  Downloading https://download.pytorch.org/whl/sympy-1.13.3-py3-none-any.whl.metadata (12 kB)\n",
            "Requirement already satisfied: numpy in /usr/local/lib/python3.11/dist-packages (from torchvision) (1.24.4)\n",
            "Requirement already satisfied: pillow!=8.3.*,>=5.3.0 in /usr/local/lib/python3.11/dist-packages (from torchvision) (11.2.1)\n",
            "Collecting torch\n",
            "  Downloading https://download.pytorch.org/whl/cpu/torch-2.6.0%2Bcpu-cp311-cp311-linux_x86_64.whl.metadata (26 kB)\n",
            "Requirement already satisfied: sympy==1.13.1 in /usr/local/lib/python3.11/dist-packages (from torch) (1.13.1)\n",
            "Requirement already satisfied: mpmath<1.4,>=1.1.0 in /usr/local/lib/python3.11/dist-packages (from sympy==1.13.1->torch) (1.3.0)\n",
            "Requirement already satisfied: MarkupSafe>=2.0 in /usr/local/lib/python3.11/dist-packages (from jinja2->torch) (3.0.2)\n",
            "Downloading https://download.pytorch.org/whl/cpu/torch-2.6.0%2Bcpu-cp311-cp311-linux_x86_64.whl (178.7 MB)\n",
            "\u001b[2K   \u001b[90m━━━━━━━━━━━━━━━━━━━━━━━━━━━━━━━━━━━━━━━━\u001b[0m \u001b[32m178.7/178.7 MB\u001b[0m \u001b[31m6.3 MB/s\u001b[0m eta \u001b[36m0:00:00\u001b[0m\n",
            "\u001b[?25hInstalling collected packages: torch\n",
            "  Attempting uninstall: torch\n",
            "    Found existing installation: torch 2.6.0+cu124\n",
            "    Uninstalling torch-2.6.0+cu124:\n",
            "      Successfully uninstalled torch-2.6.0+cu124\n",
            "Successfully installed torch-2.6.0+cpu\n",
            "Looking in links: https://data.pyg.org/whl/torch-2.0.0+cpu.html\n",
            "Collecting torch-scatter\n",
            "  Downloading https://data.pyg.org/whl/torch-2.0.0%2Bcpu/torch_scatter-2.1.2%2Bpt20cpu-cp311-cp311-linux_x86_64.whl (494 kB)\n",
            "\u001b[2K     \u001b[90m━━━━━━━━━━━━━━━━━━━━━━━━━━━━━━━━━━━━━━━\u001b[0m \u001b[32m494.0/494.0 kB\u001b[0m \u001b[31m6.0 MB/s\u001b[0m eta \u001b[36m0:00:00\u001b[0m\n",
            "\u001b[?25hInstalling collected packages: torch-scatter\n",
            "Successfully installed torch-scatter-2.1.2+pt20cpu\n",
            "Looking in links: https://data.pyg.org/whl/torch-2.0.0+cpu.html\n",
            "Collecting torch-sparse\n",
            "  Using cached https://data.pyg.org/whl/torch-2.0.0%2Bcpu/torch_sparse-0.6.18%2Bpt20cpu-cp311-cp311-linux_x86_64.whl (1.2 MB)\n",
            "Requirement already satisfied: scipy in /usr/local/lib/python3.11/dist-packages (from torch-sparse) (1.15.3)\n",
            "Requirement already satisfied: numpy<2.5,>=1.23.5 in /usr/local/lib/python3.11/dist-packages (from scipy->torch-sparse) (1.24.4)\n",
            "Installing collected packages: torch-sparse\n",
            "Successfully installed torch-sparse-0.6.18+pt20cpu\n",
            "Collecting torch-geometric\n",
            "  Using cached torch_geometric-2.6.1-py3-none-any.whl.metadata (63 kB)\n",
            "Requirement already satisfied: aiohttp in /usr/local/lib/python3.11/dist-packages (from torch-geometric) (3.11.15)\n",
            "Requirement already satisfied: fsspec in /usr/local/lib/python3.11/dist-packages (from torch-geometric) (2025.3.2)\n",
            "Requirement already satisfied: jinja2 in /usr/local/lib/python3.11/dist-packages (from torch-geometric) (3.1.6)\n",
            "Requirement already satisfied: numpy in /usr/local/lib/python3.11/dist-packages (from torch-geometric) (1.24.4)\n",
            "Requirement already satisfied: psutil>=5.8.0 in /usr/local/lib/python3.11/dist-packages (from torch-geometric) (5.9.5)\n",
            "Requirement already satisfied: pyparsing in /usr/local/lib/python3.11/dist-packages (from torch-geometric) (3.2.3)\n",
            "Requirement already satisfied: requests in /usr/local/lib/python3.11/dist-packages (from torch-geometric) (2.32.3)\n",
            "Requirement already satisfied: tqdm in /usr/local/lib/python3.11/dist-packages (from torch-geometric) (4.67.1)\n",
            "Requirement already satisfied: aiohappyeyeballs>=2.3.0 in /usr/local/lib/python3.11/dist-packages (from aiohttp->torch-geometric) (2.6.1)\n",
            "Requirement already satisfied: aiosignal>=1.1.2 in /usr/local/lib/python3.11/dist-packages (from aiohttp->torch-geometric) (1.3.2)\n",
            "Requirement already satisfied: attrs>=17.3.0 in /usr/local/lib/python3.11/dist-packages (from aiohttp->torch-geometric) (25.3.0)\n",
            "Requirement already satisfied: frozenlist>=1.1.1 in /usr/local/lib/python3.11/dist-packages (from aiohttp->torch-geometric) (1.6.0)\n",
            "Requirement already satisfied: multidict<7.0,>=4.5 in /usr/local/lib/python3.11/dist-packages (from aiohttp->torch-geometric) (6.4.4)\n",
            "Requirement already satisfied: propcache>=0.2.0 in /usr/local/lib/python3.11/dist-packages (from aiohttp->torch-geometric) (0.3.1)\n",
            "Requirement already satisfied: yarl<2.0,>=1.17.0 in /usr/local/lib/python3.11/dist-packages (from aiohttp->torch-geometric) (1.20.0)\n",
            "Requirement already satisfied: MarkupSafe>=2.0 in /usr/local/lib/python3.11/dist-packages (from jinja2->torch-geometric) (3.0.2)\n",
            "Requirement already satisfied: charset-normalizer<4,>=2 in /usr/local/lib/python3.11/dist-packages (from requests->torch-geometric) (3.4.2)\n",
            "Requirement already satisfied: idna<4,>=2.5 in /usr/local/lib/python3.11/dist-packages (from requests->torch-geometric) (3.10)\n",
            "Requirement already satisfied: urllib3<3,>=1.21.1 in /usr/local/lib/python3.11/dist-packages (from requests->torch-geometric) (2.4.0)\n",
            "Requirement already satisfied: certifi>=2017.4.17 in /usr/local/lib/python3.11/dist-packages (from requests->torch-geometric) (2025.4.26)\n",
            "Downloading torch_geometric-2.6.1-py3-none-any.whl (1.1 MB)\n",
            "\u001b[2K   \u001b[90m━━━━━━━━━━━━━━━━━━━━━━━━━━━━━━━━━━━━━━━━\u001b[0m \u001b[32m1.1/1.1 MB\u001b[0m \u001b[31m15.6 MB/s\u001b[0m eta \u001b[36m0:00:00\u001b[0m\n",
            "\u001b[?25hInstalling collected packages: torch-geometric\n",
            "Successfully installed torch-geometric-2.6.1\n"
          ]
        }
      ]
    },
    {
      "cell_type": "code",
      "source": [
        "!pip install torch-scatter torch-sparse torch-geometric -f https://data.pyg.org/whl/torch-2.0.1+cpu.html\n"
      ],
      "metadata": {
        "colab": {
          "base_uri": "https://localhost:8080/"
        },
        "id": "9r-l71ctXrDo",
        "outputId": "df052d3b-c866-4247-ee96-cd429bec9d75"
      },
      "execution_count": 6,
      "outputs": [
        {
          "output_type": "stream",
          "name": "stdout",
          "text": [
            "Looking in links: https://data.pyg.org/whl/torch-2.0.1+cpu.html\n",
            "Requirement already satisfied: torch-scatter in /usr/local/lib/python3.11/dist-packages (2.1.2+pt20cpu)\n",
            "Requirement already satisfied: torch-sparse in /usr/local/lib/python3.11/dist-packages (0.6.18+pt20cpu)\n",
            "Requirement already satisfied: torch-geometric in /usr/local/lib/python3.11/dist-packages (2.6.1)\n",
            "Requirement already satisfied: scipy in /usr/local/lib/python3.11/dist-packages (from torch-sparse) (1.15.3)\n",
            "Requirement already satisfied: aiohttp in /usr/local/lib/python3.11/dist-packages (from torch-geometric) (3.11.15)\n",
            "Requirement already satisfied: fsspec in /usr/local/lib/python3.11/dist-packages (from torch-geometric) (2025.3.2)\n",
            "Requirement already satisfied: jinja2 in /usr/local/lib/python3.11/dist-packages (from torch-geometric) (3.1.6)\n",
            "Requirement already satisfied: numpy in /usr/local/lib/python3.11/dist-packages (from torch-geometric) (1.24.4)\n",
            "Requirement already satisfied: psutil>=5.8.0 in /usr/local/lib/python3.11/dist-packages (from torch-geometric) (5.9.5)\n",
            "Requirement already satisfied: pyparsing in /usr/local/lib/python3.11/dist-packages (from torch-geometric) (3.2.3)\n",
            "Requirement already satisfied: requests in /usr/local/lib/python3.11/dist-packages (from torch-geometric) (2.32.3)\n",
            "Requirement already satisfied: tqdm in /usr/local/lib/python3.11/dist-packages (from torch-geometric) (4.67.1)\n",
            "Requirement already satisfied: aiohappyeyeballs>=2.3.0 in /usr/local/lib/python3.11/dist-packages (from aiohttp->torch-geometric) (2.6.1)\n",
            "Requirement already satisfied: aiosignal>=1.1.2 in /usr/local/lib/python3.11/dist-packages (from aiohttp->torch-geometric) (1.3.2)\n",
            "Requirement already satisfied: attrs>=17.3.0 in /usr/local/lib/python3.11/dist-packages (from aiohttp->torch-geometric) (25.3.0)\n",
            "Requirement already satisfied: frozenlist>=1.1.1 in /usr/local/lib/python3.11/dist-packages (from aiohttp->torch-geometric) (1.6.0)\n",
            "Requirement already satisfied: multidict<7.0,>=4.5 in /usr/local/lib/python3.11/dist-packages (from aiohttp->torch-geometric) (6.4.4)\n",
            "Requirement already satisfied: propcache>=0.2.0 in /usr/local/lib/python3.11/dist-packages (from aiohttp->torch-geometric) (0.3.1)\n",
            "Requirement already satisfied: yarl<2.0,>=1.17.0 in /usr/local/lib/python3.11/dist-packages (from aiohttp->torch-geometric) (1.20.0)\n",
            "Requirement already satisfied: MarkupSafe>=2.0 in /usr/local/lib/python3.11/dist-packages (from jinja2->torch-geometric) (3.0.2)\n",
            "Requirement already satisfied: charset-normalizer<4,>=2 in /usr/local/lib/python3.11/dist-packages (from requests->torch-geometric) (3.4.2)\n",
            "Requirement already satisfied: idna<4,>=2.5 in /usr/local/lib/python3.11/dist-packages (from requests->torch-geometric) (3.10)\n",
            "Requirement already satisfied: urllib3<3,>=1.21.1 in /usr/local/lib/python3.11/dist-packages (from requests->torch-geometric) (2.4.0)\n",
            "Requirement already satisfied: certifi>=2017.4.17 in /usr/local/lib/python3.11/dist-packages (from requests->torch-geometric) (2025.4.26)\n"
          ]
        }
      ]
    },
    {
      "cell_type": "code",
      "source": [
        "!pip install torch torchvision torchaudio --index-url https://download.pytorch.org/whl/cpu\n",
        "!pip install torch-scatter torch-sparse torch-geometric -f https://data.pyg.org/whl/torch-2.0.1+cpu.html\n",
        "!pip install rdkit-pypi tqdm matplotlib pandas\n"
      ],
      "metadata": {
        "colab": {
          "base_uri": "https://localhost:8080/"
        },
        "id": "N6bjgw2Udexc",
        "outputId": "6ec510aa-456e-458d-b4d0-10ad5e3bb292"
      },
      "execution_count": 15,
      "outputs": [
        {
          "output_type": "stream",
          "name": "stdout",
          "text": [
            "Looking in indexes: https://download.pytorch.org/whl/cpu\n",
            "Requirement already satisfied: torch in /usr/local/lib/python3.11/dist-packages (2.6.0+cpu)\n",
            "Requirement already satisfied: torchvision in /usr/local/lib/python3.11/dist-packages (0.21.0+cu124)\n",
            "Requirement already satisfied: torchaudio in /usr/local/lib/python3.11/dist-packages (2.6.0+cu124)\n",
            "Requirement already satisfied: filelock in /usr/local/lib/python3.11/dist-packages (from torch) (3.18.0)\n",
            "Requirement already satisfied: typing-extensions>=4.10.0 in /usr/local/lib/python3.11/dist-packages (from torch) (4.14.0)\n",
            "Requirement already satisfied: networkx in /usr/local/lib/python3.11/dist-packages (from torch) (3.5)\n",
            "Requirement already satisfied: jinja2 in /usr/local/lib/python3.11/dist-packages (from torch) (3.1.6)\n",
            "Requirement already satisfied: fsspec in /usr/local/lib/python3.11/dist-packages (from torch) (2025.3.2)\n",
            "Requirement already satisfied: sympy==1.13.1 in /usr/local/lib/python3.11/dist-packages (from torch) (1.13.1)\n",
            "Requirement already satisfied: mpmath<1.4,>=1.1.0 in /usr/local/lib/python3.11/dist-packages (from sympy==1.13.1->torch) (1.3.0)\n",
            "Requirement already satisfied: numpy in /usr/local/lib/python3.11/dist-packages (from torchvision) (1.24.4)\n",
            "Requirement already satisfied: pillow!=8.3.*,>=5.3.0 in /usr/local/lib/python3.11/dist-packages (from torchvision) (11.2.1)\n",
            "Requirement already satisfied: MarkupSafe>=2.0 in /usr/local/lib/python3.11/dist-packages (from jinja2->torch) (3.0.2)\n",
            "Looking in links: https://data.pyg.org/whl/torch-2.0.1+cpu.html\n",
            "Requirement already satisfied: torch-scatter in /usr/local/lib/python3.11/dist-packages (2.1.2+pt20cpu)\n",
            "Requirement already satisfied: torch-sparse in /usr/local/lib/python3.11/dist-packages (0.6.18+pt20cpu)\n",
            "Requirement already satisfied: torch-geometric in /usr/local/lib/python3.11/dist-packages (2.6.1)\n",
            "Requirement already satisfied: scipy in /usr/local/lib/python3.11/dist-packages (from torch-sparse) (1.15.3)\n",
            "Requirement already satisfied: aiohttp in /usr/local/lib/python3.11/dist-packages (from torch-geometric) (3.11.15)\n",
            "Requirement already satisfied: fsspec in /usr/local/lib/python3.11/dist-packages (from torch-geometric) (2025.3.2)\n",
            "Requirement already satisfied: jinja2 in /usr/local/lib/python3.11/dist-packages (from torch-geometric) (3.1.6)\n",
            "Requirement already satisfied: numpy in /usr/local/lib/python3.11/dist-packages (from torch-geometric) (1.24.4)\n",
            "Requirement already satisfied: psutil>=5.8.0 in /usr/local/lib/python3.11/dist-packages (from torch-geometric) (5.9.5)\n",
            "Requirement already satisfied: pyparsing in /usr/local/lib/python3.11/dist-packages (from torch-geometric) (3.2.3)\n",
            "Requirement already satisfied: requests in /usr/local/lib/python3.11/dist-packages (from torch-geometric) (2.32.3)\n",
            "Requirement already satisfied: tqdm in /usr/local/lib/python3.11/dist-packages (from torch-geometric) (4.67.1)\n",
            "Requirement already satisfied: aiohappyeyeballs>=2.3.0 in /usr/local/lib/python3.11/dist-packages (from aiohttp->torch-geometric) (2.6.1)\n",
            "Requirement already satisfied: aiosignal>=1.1.2 in /usr/local/lib/python3.11/dist-packages (from aiohttp->torch-geometric) (1.3.2)\n",
            "Requirement already satisfied: attrs>=17.3.0 in /usr/local/lib/python3.11/dist-packages (from aiohttp->torch-geometric) (25.3.0)\n",
            "Requirement already satisfied: frozenlist>=1.1.1 in /usr/local/lib/python3.11/dist-packages (from aiohttp->torch-geometric) (1.6.0)\n",
            "Requirement already satisfied: multidict<7.0,>=4.5 in /usr/local/lib/python3.11/dist-packages (from aiohttp->torch-geometric) (6.4.4)\n",
            "Requirement already satisfied: propcache>=0.2.0 in /usr/local/lib/python3.11/dist-packages (from aiohttp->torch-geometric) (0.3.1)\n",
            "Requirement already satisfied: yarl<2.0,>=1.17.0 in /usr/local/lib/python3.11/dist-packages (from aiohttp->torch-geometric) (1.20.0)\n",
            "Requirement already satisfied: MarkupSafe>=2.0 in /usr/local/lib/python3.11/dist-packages (from jinja2->torch-geometric) (3.0.2)\n",
            "Requirement already satisfied: charset-normalizer<4,>=2 in /usr/local/lib/python3.11/dist-packages (from requests->torch-geometric) (3.4.2)\n",
            "Requirement already satisfied: idna<4,>=2.5 in /usr/local/lib/python3.11/dist-packages (from requests->torch-geometric) (3.10)\n",
            "Requirement already satisfied: urllib3<3,>=1.21.1 in /usr/local/lib/python3.11/dist-packages (from requests->torch-geometric) (2.4.0)\n",
            "Requirement already satisfied: certifi>=2017.4.17 in /usr/local/lib/python3.11/dist-packages (from requests->torch-geometric) (2025.4.26)\n",
            "Requirement already satisfied: rdkit-pypi in /usr/local/lib/python3.11/dist-packages (2022.9.5)\n",
            "Requirement already satisfied: tqdm in /usr/local/lib/python3.11/dist-packages (4.67.1)\n",
            "Requirement already satisfied: matplotlib in /usr/local/lib/python3.11/dist-packages (3.10.0)\n",
            "Requirement already satisfied: pandas in /usr/local/lib/python3.11/dist-packages (2.2.2)\n",
            "Requirement already satisfied: numpy in /usr/local/lib/python3.11/dist-packages (from rdkit-pypi) (1.24.4)\n",
            "Requirement already satisfied: Pillow in /usr/local/lib/python3.11/dist-packages (from rdkit-pypi) (11.2.1)\n",
            "Requirement already satisfied: contourpy>=1.0.1 in /usr/local/lib/python3.11/dist-packages (from matplotlib) (1.3.2)\n",
            "Requirement already satisfied: cycler>=0.10 in /usr/local/lib/python3.11/dist-packages (from matplotlib) (0.12.1)\n",
            "Requirement already satisfied: fonttools>=4.22.0 in /usr/local/lib/python3.11/dist-packages (from matplotlib) (4.58.1)\n",
            "Requirement already satisfied: kiwisolver>=1.3.1 in /usr/local/lib/python3.11/dist-packages (from matplotlib) (1.4.8)\n",
            "Requirement already satisfied: packaging>=20.0 in /usr/local/lib/python3.11/dist-packages (from matplotlib) (24.2)\n",
            "Requirement already satisfied: pyparsing>=2.3.1 in /usr/local/lib/python3.11/dist-packages (from matplotlib) (3.2.3)\n",
            "Requirement already satisfied: python-dateutil>=2.7 in /usr/local/lib/python3.11/dist-packages (from matplotlib) (2.9.0.post0)\n",
            "Requirement already satisfied: pytz>=2020.1 in /usr/local/lib/python3.11/dist-packages (from pandas) (2025.2)\n",
            "Requirement already satisfied: tzdata>=2022.7 in /usr/local/lib/python3.11/dist-packages (from pandas) (2025.2)\n",
            "Requirement already satisfied: six>=1.5 in /usr/local/lib/python3.11/dist-packages (from python-dateutil>=2.7->matplotlib) (1.17.0)\n"
          ]
        }
      ]
    },
    {
      "cell_type": "markdown",
      "source": [],
      "metadata": {
        "id": "ouajL26jlVKx"
      }
    },
    {
      "cell_type": "code",
      "source": [
        "# Import libraries\n",
        "import torch\n",
        "import torch.nn as nn\n",
        "import torch.nn.functional as F\n",
        "import torch.optim as optim\n",
        "import pandas as pd\n",
        "from rdkit import Chem\n",
        "from rdkit.Chem import rdchem, AllChem, DataStructs\n",
        "from torch_geometric.data import Data, Dataset\n",
        "from torch_geometric.loader import DataLoader\n",
        "from torch_geometric.nn import GATv2Conv, global_mean_pool\n",
        "from sklearn.utils import resample\n",
        "from tqdm import tqdm\n",
        "import matplotlib.pyplot as plt\n",
        "from torch.utils.data import Subset\n",
        "# Load and balance data\n",
        "url = \"https://raw.githubusercontent.com/connorcoley/retrosim/master/retrosim/data/data_processed.csv\"\n",
        "df = pd.read_csv(url).dropna()\n",
        "df[['reactants', 'products']] = df['rxn_smiles'].str.split('>>', expand=True)\n",
        "top_n = 100\n",
        "product_counts = df['products'].value_counts()\n",
        "top_products = product_counts.nlargest(top_n).index.tolist()\n",
        "min_count = product_counts[top_products].min()\n",
        "balanced_dfs = [resample(df[df['products'] == prod], n_samples=min_count, random_state=42) for prod in top_products]\n",
        "df = pd.concat(balanced_dfs).reset_index(drop=True)\n",
        "product_to_idx = {smiles: idx for idx, smiles in enumerate(top_products)}\n",
        "idx_to_product = {v: k for k, v in product_to_idx.items()}\n",
        "\n",
        "# Encode molecules into graph\n",
        "def smiles_to_graph(smiles):\n",
        "    mol = Chem.MolFromSmiles(str(smiles))\n",
        "    if mol is None:\n",
        "        return None\n",
        "    atom_features = []\n",
        "    edge_index, edge_attr = [], []\n",
        "    for atom in mol.GetAtoms():\n",
        "        atom_features.append([\n",
        "            atom.GetAtomicNum(),\n",
        "            atom.GetTotalValence(),\n",
        "            int(atom.GetIsAromatic()),\n",
        "            atom.GetDegree(),\n",
        "            atom.GetFormalCharge(),\n",
        "            int(atom.GetHybridization()),\n",
        "            atom.GetTotalNumHs()\n",
        "        ])\n",
        "    for bond in mol.GetBonds():\n",
        "        i, j = bond.GetBeginAtomIdx(), bond.GetEndAtomIdx()\n",
        "        bond_feats = [\n",
        "            int(bond.GetBondType() == rdchem.BondType.SINGLE),\n",
        "            int(bond.GetBondType() == rdchem.BondType.DOUBLE),\n",
        "            int(bond.GetBondType() == rdchem.BondType.TRIPLE),\n",
        "            int(bond.GetBondType() == rdchem.BondType.AROMATIC),\n",
        "            int(bond.GetIsConjugated()),\n",
        "            int(bond.IsInRing()),\n",
        "            int(bond.GetStereo())\n",
        "        ]\n",
        "        edge_index.extend([[i, j], [j, i]])\n",
        "        edge_attr.extend([bond_feats, bond_feats])\n",
        "\n",
        "    if not atom_features or not edge_index:\n",
        "         return None\n",
        "\n",
        "    x = torch.tensor(atom_features, dtype=torch.float)\n",
        "    edge_index = torch.tensor(edge_index, dtype=torch.long).t().contiguous()\n",
        "    edge_attr = torch.tensor(edge_attr, dtype=torch.float)\n",
        "    return Data(x=x, edge_index=edge_index, edge_attr=edge_attr)\n",
        "\n",
        "# Dataset\n",
        "class ReactionDataset(Dataset):\n",
        "    def __init__(self, df):\n",
        "        self.df = df\n",
        "\n",
        "    def __len__(self): return len(self.df)\n",
        "\n",
        "    def __getitem__(self, idx):\n",
        "        row = self.df.iloc[idx]\n",
        "        reactants_smiles = str(row['reactants'])\n",
        "        data = smiles_to_graph(reactants_smiles)\n",
        "        if data is None:\n",
        "             print(f\"Warning: Could not parse SMILES at index {idx}. Skipping.\")\n",
        "             return None\n",
        "        label = product_to_idx[row['products']]\n",
        "        data.y = torch.tensor(label, dtype=torch.long)\n",
        "        return data\n",
        "\n",
        "\n",
        "def custom_collate_fn(batch):\n",
        "    batch = [data for data in batch if data is not None]\n",
        "    if not batch:\n",
        "        return None\n",
        "    return DataLoader.from_data_list(batch)\n",
        "# Model\n",
        "class GNNModel(nn.Module):\n",
        "    def __init__(self, hidden_dim=64, out_dim=100):\n",
        "        super().__init__()\n",
        "        self.conv1 = GATv2Conv(7, hidden_dim)\n",
        "        self.conv2 = GATv2Conv(hidden_dim, hidden_dim)\n",
        "        self.fc = nn.Linear(hidden_dim, out_dim)\n",
        "\n",
        "    def forward(self, data):\n",
        "\n",
        "        if data is None:\n",
        "            return None\n",
        "        x, edge_index, batch = data.x, data.edge_index, data.batch\n",
        "\n",
        "        x = x.float()\n",
        "        edge_index = edge_index.long()\n",
        "\n",
        "        x = F.relu(self.conv1(x, edge_index))\n",
        "        x = F.relu(self.conv2(x, edge_index))\n",
        "        x = global_mean_pool(x, batch)\n",
        "        return self.fc(x)\n",
        "\n",
        "\n",
        "# Train\n",
        "dataset = ReactionDataset(df)\n",
        "loader = DataLoader(dataset, batch_size=32, shuffle=True, collate_fn=custom_collate_fn)\n",
        "device = torch.device('cuda' if torch.cuda.is_available() else 'cpu')\n",
        "\n",
        "model = GNNModel(out_dim=100).to(device)\n",
        "optimizer = optim.Adam(model.parameters(), lr=0.001)\n",
        "criterion = nn.CrossEntropyLoss()\n",
        "\n",
        "losses, accuracies = [], []\n",
        "for epoch in range(30):\n",
        "    model.train()\n",
        "    total_loss, correct, total = 0, 0, 0\n",
        "    for batch in tqdm(loader, desc=f\"Epoch {epoch+1}\"):\n",
        "        if batch is None:\n",
        "            print(f\"Warning: Skipping empty batch in Epoch {epoch+1}.\")\n",
        "            continue\n",
        "\n",
        "        batch = batch.to(device)\n",
        "        optimizer.zero_grad()\n",
        "        out = model(batch)\n",
        "        if out is None:\n",
        "             print(f\"Warning: Model returned None for a batch in Epoch {epoch+1}. Skipping loss calculation.\")\n",
        "             continue\n",
        "\n",
        "        loss = criterion(out, batch.y)\n",
        "        loss.backward()\n",
        "        optimizer.step()\n",
        "        total_loss += loss.item()\n",
        "        pred = out.argmax(dim=1)\n",
        "        correct += (pred == batch.y).sum().item()\n",
        "        total += batch.y.size(0)\n",
        "\n",
        "    avg_loss = total_loss / (len(loader) if len(loader) > 0 else 1)\n",
        "    acc = correct / (total if total > 0 else 1)\n",
        "\n",
        "    losses.append(avg_loss)\n",
        "    accuracies.append(acc)\n",
        "    print(f\"Epoch {epoch+1}: Loss = {losses[-1]:.4f}, Top-1 Accuracy = {accuracies[-1]:.4f}\")\n",
        "\n",
        "# Plot\n",
        "plt.plot(losses, label='Loss', marker='o')\n",
        "plt.plot(accuracies, label='Top-1 Accuracy', marker='s')\n",
        "plt.xlabel(\"Epoch\")\n",
        "plt.title(\"Training Loss & Accuracy\")\n",
        "plt.legend()\n",
        "plt.grid(True)\n",
        "plt.show()\n",
        "\n",
        "# Tanimoto similarity on 50 samples\n",
        "def tanimoto(fp1, fp2):\n",
        "    if fp1 is None or fp2 is None:\n",
        "        return 0.0\n",
        "\n",
        "    return DataStructs.TanimotoSimilarity(fp1, fp2)\n",
        "\n",
        "model.eval()\n",
        "top_similarities = []\n",
        "\n",
        "# Use Subset for safe indexing with dataLoader\n",
        "sample_subset = Subset(dataset, list(range(min(50, len(dataset)))))\n",
        "sample_loader = DataLoader(sample_subset, batch_size=1, collate_fn=custom_collate_fn)\n",
        "\n",
        "print(\"\\nCalculating Tanimoto Similarity on samples...\")\n",
        "for batch in sample_loader:\n",
        "    if batch is None:\n",
        "        print(\"Warning: Skipping empty sample batch for Tanimoto calculation.\")\n",
        "        continue\n",
        "\n",
        "    batch = batch.to(device)\n",
        "    with torch.no_grad():\n",
        "        out = model(batch)\n",
        "\n",
        "        if out is None or out.shape[0] == 0: # Handle empty output or None from model\n",
        "             print(\"Warning: Model output was None or empty for sample batch. Skipping Tanimoto calculation for this sample.\")\n",
        "             continue\n",
        "\n",
        "        pred_idx = out.argmax(dim=1).item()\n",
        "        true_idx = batch.y.item()\n",
        "\n",
        "        pred_smi = idx_to_product[pred_idx]\n",
        "        true_smi = idx_to_product[true_idx]\n",
        "\n",
        "\n",
        "        pred_mol = Chem.MolFromSmiles(pred_smi)\n",
        "        true_mol = Chem.MolFromSmiles(true_smi)\n",
        "\n",
        "        pred_fp = AllChem.GetMorganFingerprintAsBitVect(pred_mol, 2) if pred_mol is not None else None\n",
        "        true_fp = AllChem.GetMorganFingerprintAsBitVect(true_mol, 2) if true_mol is not None else None\n",
        "\n",
        "        similarity = tanimoto(pred_fp, true_fp)\n",
        "        top_similarities.append(similarity)\n",
        "\n",
        "avg_similarity = sum(top_similarities) / (len(top_similarities) if len(top_similarities) > 0 else 1)\n",
        "print(f\"Average Tanimoto Similarity on {len(top_similarities)} valid samples: {avg_similarity:.4f}\")\n",
        "\n",
        "\n",
        "model.eval()\n",
        "\n",
        "sample_subset_pred = Subset(dataset, list(range(min(50, len(dataset)))))\n",
        "sample_loader_pred = DataLoader(sample_subset_pred, batch_size=1, collate_fn=custom_collate_fn)\n",
        "\n",
        "top1_matches = 0\n",
        "total = 0\n",
        "\n",
        "print(\"\\nSample Predictions (Top-1 SMILES Matching):\")\n",
        "for batch in sample_loader_pred:\n",
        "    if batch is None:\n",
        "        print(\"Warning: Skipping empty sample batch for Top-1 matching.\")\n",
        "        continue\n",
        "\n",
        "    batch = batch.to(device)\n",
        "    with torch.no_grad():\n",
        "        out = model(batch)\n",
        "\n",
        "        if out is None or out.shape[0] == 0:\n",
        "             print(\"Warning: Model output was None or empty for sample batch. Skipping Top-1 calculation for this sample.\")\n",
        "             continue\n",
        "\n",
        "        pred_idx = out.argmax(dim=1).item()\n",
        "        true_idx = batch.y.item()\n",
        "\n",
        "        pred_smiles = idx_to_product[pred_idx]\n",
        "        true_smiles = idx_to_product[true_idx]\n",
        "\n",
        "        print(f\"Predicted: {pred_smiles}\\nTrue:      {true_smiles}\\n---\")\n",
        "\n",
        "        if pred_smiles == true_smiles:\n",
        "            top1_matches += 1\n",
        "        total += 1\n",
        "\n",
        "print(f\"\\nTop-1 SMILES Match Accuracy on {total} valid samples: {top1_matches / (total if total > 0 else 1):.4f}\")"
      ],
      "metadata": {
        "colab": {
          "base_uri": "https://localhost:8080/",
          "height": 1000
        },
        "id": "6WdnwagRjKgc",
        "outputId": "161ad462-7161-4309-8791-449c5400d4c8"
      },
      "execution_count": 25,
      "outputs": [
        {
          "output_type": "stream",
          "name": "stderr",
          "text": [
            "Epoch 1: 100%|██████████| 7/7 [00:00<00:00, 16.76it/s]\n"
          ]
        },
        {
          "output_type": "stream",
          "name": "stdout",
          "text": [
            "Epoch 1: Loss = 4.7120, Top-1 Accuracy = 0.0050\n"
          ]
        },
        {
          "output_type": "stream",
          "name": "stderr",
          "text": [
            "Epoch 2: 100%|██████████| 7/7 [00:00<00:00, 15.46it/s]\n"
          ]
        },
        {
          "output_type": "stream",
          "name": "stdout",
          "text": [
            "Epoch 2: Loss = 4.6500, Top-1 Accuracy = 0.0000\n"
          ]
        },
        {
          "output_type": "stream",
          "name": "stderr",
          "text": [
            "Epoch 3: 100%|██████████| 7/7 [00:00<00:00, 14.92it/s]\n"
          ]
        },
        {
          "output_type": "stream",
          "name": "stdout",
          "text": [
            "Epoch 3: Loss = 4.6188, Top-1 Accuracy = 0.0100\n"
          ]
        },
        {
          "output_type": "stream",
          "name": "stderr",
          "text": [
            "Epoch 4: 100%|██████████| 7/7 [00:00<00:00, 22.51it/s]\n"
          ]
        },
        {
          "output_type": "stream",
          "name": "stdout",
          "text": [
            "Epoch 4: Loss = 4.5883, Top-1 Accuracy = 0.0200\n"
          ]
        },
        {
          "output_type": "stream",
          "name": "stderr",
          "text": [
            "Epoch 5: 100%|██████████| 7/7 [00:00<00:00, 24.04it/s]\n"
          ]
        },
        {
          "output_type": "stream",
          "name": "stdout",
          "text": [
            "Epoch 5: Loss = 4.5671, Top-1 Accuracy = 0.0200\n"
          ]
        },
        {
          "output_type": "stream",
          "name": "stderr",
          "text": [
            "Epoch 6: 100%|██████████| 7/7 [00:00<00:00, 23.62it/s]\n"
          ]
        },
        {
          "output_type": "stream",
          "name": "stdout",
          "text": [
            "Epoch 6: Loss = 4.5521, Top-1 Accuracy = 0.0150\n"
          ]
        },
        {
          "output_type": "stream",
          "name": "stderr",
          "text": [
            "Epoch 7: 100%|██████████| 7/7 [00:00<00:00, 23.99it/s]\n"
          ]
        },
        {
          "output_type": "stream",
          "name": "stdout",
          "text": [
            "Epoch 7: Loss = 4.5304, Top-1 Accuracy = 0.0100\n"
          ]
        },
        {
          "output_type": "stream",
          "name": "stderr",
          "text": [
            "Epoch 8: 100%|██████████| 7/7 [00:00<00:00, 24.27it/s]\n"
          ]
        },
        {
          "output_type": "stream",
          "name": "stdout",
          "text": [
            "Epoch 8: Loss = 4.4939, Top-1 Accuracy = 0.0150\n"
          ]
        },
        {
          "output_type": "stream",
          "name": "stderr",
          "text": [
            "Epoch 9: 100%|██████████| 7/7 [00:00<00:00, 23.42it/s]\n"
          ]
        },
        {
          "output_type": "stream",
          "name": "stdout",
          "text": [
            "Epoch 9: Loss = 4.4636, Top-1 Accuracy = 0.0100\n"
          ]
        },
        {
          "output_type": "stream",
          "name": "stderr",
          "text": [
            "Epoch 10: 100%|██████████| 7/7 [00:00<00:00, 24.22it/s]\n"
          ]
        },
        {
          "output_type": "stream",
          "name": "stdout",
          "text": [
            "Epoch 10: Loss = 4.4231, Top-1 Accuracy = 0.0100\n"
          ]
        },
        {
          "output_type": "stream",
          "name": "stderr",
          "text": [
            "Epoch 11: 100%|██████████| 7/7 [00:00<00:00, 23.74it/s]\n"
          ]
        },
        {
          "output_type": "stream",
          "name": "stdout",
          "text": [
            "Epoch 11: Loss = 4.4062, Top-1 Accuracy = 0.0100\n"
          ]
        },
        {
          "output_type": "stream",
          "name": "stderr",
          "text": [
            "Epoch 12: 100%|██████████| 7/7 [00:00<00:00, 24.24it/s]\n"
          ]
        },
        {
          "output_type": "stream",
          "name": "stdout",
          "text": [
            "Epoch 12: Loss = 4.3618, Top-1 Accuracy = 0.0250\n"
          ]
        },
        {
          "output_type": "stream",
          "name": "stderr",
          "text": [
            "Epoch 13: 100%|██████████| 7/7 [00:00<00:00, 22.76it/s]\n"
          ]
        },
        {
          "output_type": "stream",
          "name": "stdout",
          "text": [
            "Epoch 13: Loss = 4.2966, Top-1 Accuracy = 0.0350\n"
          ]
        },
        {
          "output_type": "stream",
          "name": "stderr",
          "text": [
            "Epoch 14: 100%|██████████| 7/7 [00:00<00:00, 23.70it/s]\n"
          ]
        },
        {
          "output_type": "stream",
          "name": "stdout",
          "text": [
            "Epoch 14: Loss = 4.2851, Top-1 Accuracy = 0.0400\n"
          ]
        },
        {
          "output_type": "stream",
          "name": "stderr",
          "text": [
            "Epoch 15: 100%|██████████| 7/7 [00:00<00:00, 23.38it/s]\n"
          ]
        },
        {
          "output_type": "stream",
          "name": "stdout",
          "text": [
            "Epoch 15: Loss = 4.2230, Top-1 Accuracy = 0.0300\n"
          ]
        },
        {
          "output_type": "stream",
          "name": "stderr",
          "text": [
            "Epoch 16: 100%|██████████| 7/7 [00:00<00:00, 22.86it/s]\n"
          ]
        },
        {
          "output_type": "stream",
          "name": "stdout",
          "text": [
            "Epoch 16: Loss = 4.2202, Top-1 Accuracy = 0.0350\n"
          ]
        },
        {
          "output_type": "stream",
          "name": "stderr",
          "text": [
            "Epoch 17: 100%|██████████| 7/7 [00:00<00:00, 23.15it/s]\n"
          ]
        },
        {
          "output_type": "stream",
          "name": "stdout",
          "text": [
            "Epoch 17: Loss = 4.2104, Top-1 Accuracy = 0.0350\n"
          ]
        },
        {
          "output_type": "stream",
          "name": "stderr",
          "text": [
            "Epoch 18: 100%|██████████| 7/7 [00:00<00:00, 23.58it/s]\n"
          ]
        },
        {
          "output_type": "stream",
          "name": "stdout",
          "text": [
            "Epoch 18: Loss = 4.1340, Top-1 Accuracy = 0.0400\n"
          ]
        },
        {
          "output_type": "stream",
          "name": "stderr",
          "text": [
            "Epoch 19: 100%|██████████| 7/7 [00:00<00:00, 22.88it/s]\n"
          ]
        },
        {
          "output_type": "stream",
          "name": "stdout",
          "text": [
            "Epoch 19: Loss = 4.1434, Top-1 Accuracy = 0.0400\n"
          ]
        },
        {
          "output_type": "stream",
          "name": "stderr",
          "text": [
            "Epoch 20: 100%|██████████| 7/7 [00:00<00:00, 23.87it/s]\n"
          ]
        },
        {
          "output_type": "stream",
          "name": "stdout",
          "text": [
            "Epoch 20: Loss = 4.0886, Top-1 Accuracy = 0.0300\n"
          ]
        },
        {
          "output_type": "stream",
          "name": "stderr",
          "text": [
            "Epoch 21: 100%|██████████| 7/7 [00:00<00:00, 23.87it/s]\n"
          ]
        },
        {
          "output_type": "stream",
          "name": "stdout",
          "text": [
            "Epoch 21: Loss = 4.0584, Top-1 Accuracy = 0.0300\n"
          ]
        },
        {
          "output_type": "stream",
          "name": "stderr",
          "text": [
            "Epoch 22: 100%|██████████| 7/7 [00:00<00:00, 24.43it/s]\n"
          ]
        },
        {
          "output_type": "stream",
          "name": "stdout",
          "text": [
            "Epoch 22: Loss = 3.9601, Top-1 Accuracy = 0.0400\n"
          ]
        },
        {
          "output_type": "stream",
          "name": "stderr",
          "text": [
            "Epoch 23: 100%|██████████| 7/7 [00:00<00:00, 22.58it/s]\n"
          ]
        },
        {
          "output_type": "stream",
          "name": "stdout",
          "text": [
            "Epoch 23: Loss = 3.9763, Top-1 Accuracy = 0.0350\n"
          ]
        },
        {
          "output_type": "stream",
          "name": "stderr",
          "text": [
            "Epoch 24: 100%|██████████| 7/7 [00:00<00:00, 23.64it/s]\n"
          ]
        },
        {
          "output_type": "stream",
          "name": "stdout",
          "text": [
            "Epoch 24: Loss = 3.9790, Top-1 Accuracy = 0.0350\n"
          ]
        },
        {
          "output_type": "stream",
          "name": "stderr",
          "text": [
            "Epoch 25: 100%|██████████| 7/7 [00:00<00:00, 22.78it/s]\n"
          ]
        },
        {
          "output_type": "stream",
          "name": "stdout",
          "text": [
            "Epoch 25: Loss = 3.9203, Top-1 Accuracy = 0.0450\n"
          ]
        },
        {
          "output_type": "stream",
          "name": "stderr",
          "text": [
            "Epoch 26: 100%|██████████| 7/7 [00:00<00:00, 21.89it/s]\n"
          ]
        },
        {
          "output_type": "stream",
          "name": "stdout",
          "text": [
            "Epoch 26: Loss = 3.8300, Top-1 Accuracy = 0.0700\n"
          ]
        },
        {
          "output_type": "stream",
          "name": "stderr",
          "text": [
            "Epoch 27: 100%|██████████| 7/7 [00:00<00:00, 11.30it/s]\n"
          ]
        },
        {
          "output_type": "stream",
          "name": "stdout",
          "text": [
            "Epoch 27: Loss = 3.8324, Top-1 Accuracy = 0.0700\n"
          ]
        },
        {
          "output_type": "stream",
          "name": "stderr",
          "text": [
            "Epoch 28: 100%|██████████| 7/7 [00:00<00:00, 22.96it/s]\n"
          ]
        },
        {
          "output_type": "stream",
          "name": "stdout",
          "text": [
            "Epoch 28: Loss = 3.7443, Top-1 Accuracy = 0.0850\n"
          ]
        },
        {
          "output_type": "stream",
          "name": "stderr",
          "text": [
            "Epoch 29: 100%|██████████| 7/7 [00:00<00:00, 23.84it/s]\n"
          ]
        },
        {
          "output_type": "stream",
          "name": "stdout",
          "text": [
            "Epoch 29: Loss = 3.7255, Top-1 Accuracy = 0.0950\n"
          ]
        },
        {
          "output_type": "stream",
          "name": "stderr",
          "text": [
            "Epoch 30: 100%|██████████| 7/7 [00:00<00:00, 23.89it/s]\n"
          ]
        },
        {
          "output_type": "stream",
          "name": "stdout",
          "text": [
            "Epoch 30: Loss = 3.6668, Top-1 Accuracy = 0.0700\n"
          ]
        },
        {
          "output_type": "display_data",
          "data": {
            "text/plain": [
              "<Figure size 640x480 with 1 Axes>"
            ],
            "image/png": "[encoded data removed]"
          },
          "metadata": {}
        },
        {
          "output_type": "stream",
          "name": "stdout",
          "text": [
            "\n",
            "Calculating Tanimoto Similarity on samples...\n",
            "Average Tanimoto Similarity on 50 valid samples: 0.1905\n",
            "\n",
            "Sample Predictions (Top-1 SMILES Matching):\n",
            "Predicted: [OH:1][CH:2]([c:3]1[cH:4][cH:5][cH:6][cH:7][cH:8]1)[c:9]1[cH:10][cH:11][cH:12][cH:13][cH:14]1\n",
            "True:      [NH2:1][c:2]1[cH:3][cH:4][c:5]([CH3:6])[n:7][c:8]1[NH2:9]\n",
            "---\n",
            "Predicted: [OH:1][CH:2]([c:3]1[cH:4][cH:5][cH:6][cH:7][cH:8]1)[c:9]1[cH:10][cH:11][cH:12][cH:13][cH:14]1\n",
            "True:      [NH2:1][c:2]1[cH:3][cH:4][c:5]([CH3:6])[n:7][c:8]1[NH2:9]\n",
            "---\n",
            "Predicted: [CH2:1]1[CH2:2][CH:3]([Br:9])[C:4](=[O:8])[N:5]1[O:6][CH3:7]\n",
            "True:      [CH2:1]([c:2]1[cH:3][cH:4][cH:5][cH:6][cH:7]1)[O:8][c:9]1[cH:10][cH:11][c:12]([Br:13])[cH:14][c:15]1[F:16]\n",
            "---\n",
            "Predicted: [CH2:1]1[CH2:2][CH:3]([Br:9])[C:4](=[O:8])[N:5]1[O:6][CH3:7]\n",
            "True:      [CH2:1]([c:2]1[cH:3][cH:4][cH:5][cH:6][cH:7]1)[O:8][c:9]1[cH:10][cH:11][c:12]([Br:13])[cH:14][c:15]1[F:16]\n",
            "---\n",
            "Predicted: [CH2:1]1[CH2:2][CH:3]([Br:9])[C:4](=[O:8])[N:5]1[O:6][CH3:7]\n",
            "True:      [S:1](=[O:2])(=[O:3])([c:4]1[cH:5][c:6]([Cl:7])[cH:8][cH:9][c:10]1[Cl:11])[NH:17][c:16]1[o:15][n:14][c:13]([CH3:12])[c:18]1[Br:19]\n",
            "---\n",
            "Predicted: [CH2:1]1[CH2:2][CH:3]([Br:9])[C:4](=[O:8])[N:5]1[O:6][CH3:7]\n",
            "True:      [S:1](=[O:2])(=[O:3])([c:4]1[cH:5][c:6]([Cl:7])[cH:8][cH:9][c:10]1[Cl:11])[NH:17][c:16]1[o:15][n:14][c:13]([CH3:12])[c:18]1[Br:19]\n",
            "---\n",
            "Predicted: [CH2:1]([O:2][CH3:3])[O:13][c:12]1[c:10]([Br:11])[cH:9][c:8]([C:5]([CH3:4])([CH3:6])[CH3:7])[cH:19][c:14]1[C:15]([CH3:16])([CH3:17])[CH3:18]\n",
            "True:      [CH2:1]([c:2]1[cH:3][cH:4][c:5]([Br:6])[cH:7][cH:8]1)[N:19]1[CH2:18][CH2:17][N:16]([C:14]([O:13][C:10]([CH3:9])([CH3:11])[CH3:12])=[O:15])[CH2:21][CH2:20]1\n",
            "---\n",
            "Predicted: [CH2:1]([O:2][CH3:3])[O:13][c:12]1[c:10]([Br:11])[cH:9][c:8]([C:5]([CH3:4])([CH3:6])[CH3:7])[cH:19][c:14]1[C:15]([CH3:16])([CH3:17])[CH3:18]\n",
            "True:      [CH2:1]([c:2]1[cH:3][cH:4][c:5]([Br:6])[cH:7][cH:8]1)[N:19]1[CH2:18][CH2:17][N:16]([C:14]([O:13][C:10]([CH3:9])([CH3:11])[CH3:12])=[O:15])[CH2:21][CH2:20]1\n",
            "---\n",
            "Predicted: [OH:1][CH:2]([c:3]1[cH:4][cH:5][cH:6][cH:7][cH:8]1)[c:9]1[cH:10][cH:11][cH:12][cH:13][cH:14]1\n",
            "True:      [C:1]([c:2]1[cH:3][cH:4][cH:5][cH:6][cH:7]1)([c:8]1[cH:9][cH:10][cH:11][cH:12][cH:13]1)([c:14]1[cH:15][cH:16][cH:17][cH:18][cH:19]1)[n:22]1[cH:21][cH:20][n:24][cH:23]1\n",
            "---\n",
            "Predicted: [OH:1][c:2]1[cH:3][cH:4][c:5]([C:6](=[O:7])[c:8]2[c:9](-[c:10]3[cH:11][cH:12][c:13]([O:14][CH3:15])[cH:16][cH:17]3)[s:18][c:19]3[cH:20][c:21]([O:22][CH3:23])[cH:24][cH:25][c:26]23)[cH:27][cH:28]1\n",
            "True:      [C:1]([c:2]1[cH:3][cH:4][cH:5][cH:6][cH:7]1)([c:8]1[cH:9][cH:10][cH:11][cH:12][cH:13]1)([c:14]1[cH:15][cH:16][cH:17][cH:18][cH:19]1)[n:22]1[cH:21][cH:20][n:24][cH:23]1\n",
            "---\n",
            "Predicted: [NH2:1][c:2]1[cH:3][c:4]([Cl:5])[cH:6][c:7]([Cl:8])[c:9]1[OH:10]\n",
            "True:      [PH:1]([c:2]1[cH:3][cH:4][cH:5][cH:6][cH:7]1)[c:8]1[cH:9][cH:10][cH:11][cH:12][cH:13]1\n",
            "---\n",
            "Predicted: [NH2:1][c:2]1[cH:3][c:4]([Cl:5])[cH:6][c:7]([Cl:8])[c:9]1[OH:10]\n",
            "True:      [PH:1]([c:2]1[cH:3][cH:4][cH:5][cH:6][cH:7]1)[c:8]1[cH:9][cH:10][cH:11][cH:12][cH:13]1\n",
            "---\n",
            "Predicted: [c:1]1([N:17]2[CH2:12][CH2:13][C:14]3([CH2:15][CH2:16]2)[O:18][CH2:19][CH2:20][O:21]3)[cH:2][cH:3][c:4]([C:5]([O:6][CH2:7][CH3:8])=[O:9])[cH:10][cH:11]1\n",
            "True:      [CH3:1][C:2]([CH3:3])([CH3:4])[O:5][C:6](=[O:7])[N:13]1[CH2:12][CH2:11][CH:10]([CH2:9][OH:8])[CH2:15][CH2:14]1\n",
            "---\n",
            "Predicted: [c:1]1([N:17]2[CH2:12][CH2:13][C:14]3([CH2:15][CH2:16]2)[O:18][CH2:19][CH2:20][O:21]3)[cH:2][cH:3][c:4]([C:5]([O:6][CH2:7][CH3:8])=[O:9])[cH:10][cH:11]1\n",
            "True:      [CH3:1][C:2]([CH3:3])([CH3:4])[O:5][C:6](=[O:7])[N:13]1[CH2:12][CH2:11][CH:10]([CH2:9][OH:8])[CH2:15][CH2:14]1\n",
            "---\n",
            "Predicted: [C:1](=[O:2])([c:3]1[cH:4][cH:5][c:6]([Cl:7])[cH:8][cH:9]1)[NH:10][CH:11]([CH2:12][CH:13]1[C:14](=[O:15])[NH:16][c:17]2[cH:18][cH:19][cH:20][cH:21][c:22]21)[C:23](=[O:24])[OH:25]\n",
            "True:      [C:1](=[O:2])([c:3]1[cH:4][cH:5][c:6]([Cl:7])[cH:8][cH:9]1)[NH:10][CH:11]([CH2:12][CH:13]1[C:14](=[O:15])[NH:16][c:17]2[cH:18][cH:19][cH:20][cH:21][c:22]21)[C:23](=[O:24])[OH:25]\n",
            "---\n",
            "Predicted: [C:1](=[O:2])([c:3]1[cH:4][cH:5][c:6]([Cl:7])[cH:8][cH:9]1)[NH:10][CH:11]([CH2:12][CH:13]1[C:14](=[O:15])[NH:16][c:17]2[cH:18][cH:19][cH:20][cH:21][c:22]21)[C:23](=[O:24])[OH:25]\n",
            "True:      [C:1](=[O:2])([c:3]1[cH:4][cH:5][c:6]([Cl:7])[cH:8][cH:9]1)[NH:10][CH:11]([CH2:12][CH:13]1[C:14](=[O:15])[NH:16][c:17]2[cH:18][cH:19][cH:20][cH:21][c:22]21)[C:23](=[O:24])[OH:25]\n",
            "---\n",
            "Predicted: [CH2:1]1[CH2:2][CH:3]([Br:9])[C:4](=[O:8])[N:5]1[O:6][CH3:7]\n",
            "True:      [CH2:1]([c:2]1[c:3]([F:4])[cH:5][c:6]([Br:7])[cH:8][cH:9]1)[C:10]#[N:11]\n",
            "---\n",
            "Predicted: [CH2:1]1[CH2:2][CH:3]([Br:9])[C:4](=[O:8])[N:5]1[O:6][CH3:7]\n",
            "True:      [CH2:1]([c:2]1[c:3]([F:4])[cH:5][c:6]([Br:7])[cH:8][cH:9]1)[C:10]#[N:11]\n",
            "---\n",
            "Predicted: [c:1]1([N:17]2[CH2:12][CH2:13][C:14]3([CH2:15][CH2:16]2)[O:18][CH2:19][CH2:20][O:21]3)[cH:2][cH:3][c:4]([C:5]([O:6][CH2:7][CH3:8])=[O:9])[cH:10][cH:11]1\n",
            "True:      [C:1]([CH2:2][C@H:3]([NH:4][C:5]([O:6][C:7]([CH3:8])([CH3:9])[CH3:10])=[O:11])[CH2:12][c:13]1[cH:14][c:15]([F:16])[c:17]([F:18])[cH:19][c:20]1[F:21])(=[O:22])[N:34]1[CH2:33][CH2:32][n:31]2[c:27]([C:24]([F:23])([F:25])[F:26])[n:28][n:29][c:30]2[CH2:35]1\n",
            "---\n",
            "Predicted: [c:1]1([N:17]2[CH2:12][CH2:13][C:14]3([CH2:15][CH2:16]2)[O:18][CH2:19][CH2:20][O:21]3)[cH:2][cH:3][c:4]([C:5]([O:6][CH2:7][CH3:8])=[O:9])[cH:10][cH:11]1\n",
            "True:      [C:1]([CH2:2][C@H:3]([NH:4][C:5]([O:6][C:7]([CH3:8])([CH3:9])[CH3:10])=[O:11])[CH2:12][c:13]1[cH:14][c:15]([F:16])[c:17]([F:18])[cH:19][c:20]1[F:21])(=[O:22])[N:34]1[CH2:33][CH2:32][n:31]2[c:27]([C:24]([F:23])([F:25])[F:26])[n:28][n:29][c:30]2[CH2:35]1\n",
            "---\n",
            "Predicted: [CH2:1]1[C:12]2([CH2:11][CH2:10][N:9]([C:7]([O:6][C:3]([CH3:2])([CH3:4])[CH3:5])=[O:8])[CH2:15][CH2:14]2)[O:13]1\n",
            "True:      [C:1](=[O:2])([c:3]1[cH:4][cH:5][c:6]([Cl:7])[cH:8][cH:9]1)[NH:10][CH2:11][CH2:12][N:13]1[CH2:14][CH2:15][O:16][CH2:17][CH2:18]1\n",
            "---\n",
            "Predicted: [c:1]1([C:15]#[C:16][c:17]2[cH:18][c:19]([Cl:20])[cH:21][cH:22][c:23]2[O:24][CH2:25][C:26](=[O:27])[O:28][C:29]([CH3:30])([CH3:31])[CH3:32])[c:2]([CH3:3])[cH:4][cH:5][c:6]([S:7](=[O:8])(=[O:9])[NH:10][CH:11]([CH3:12])[CH3:13])[cH:14]1\n",
            "True:      [C:1](=[O:2])([c:3]1[cH:4][cH:5][c:6]([Cl:7])[cH:8][cH:9]1)[NH:10][CH2:11][CH2:12][N:13]1[CH2:14][CH2:15][O:16][CH2:17][CH2:18]1\n",
            "---\n",
            "Predicted: [CH2:1]1[C:12]2([CH2:11][CH2:10][N:9]([C:7]([O:6][C:3]([CH3:2])([CH3:4])[CH3:5])=[O:8])[CH2:15][CH2:14]2)[O:13]1\n",
            "True:      [CH2:1]1[C:12]2([CH2:11][CH2:10][N:9]([C:7]([O:6][C:3]([CH3:2])([CH3:4])[CH3:5])=[O:8])[CH2:15][CH2:14]2)[O:13]1\n",
            "---\n",
            "Predicted: [CH2:1]1[C:12]2([CH2:11][CH2:10][N:9]([C:7]([O:6][C:3]([CH3:2])([CH3:4])[CH3:5])=[O:8])[CH2:15][CH2:14]2)[O:13]1\n",
            "True:      [CH2:1]1[C:12]2([CH2:11][CH2:10][N:9]([C:7]([O:6][C:3]([CH3:2])([CH3:4])[CH3:5])=[O:8])[CH2:15][CH2:14]2)[O:13]1\n",
            "---\n",
            "Predicted: [NH2:1][c:2]1[cH:3][cH:4][c:5]([C:6]([O:7][CH3:8])=[O:9])[c:10]([S:11](=[O:12])(=[O:13])[NH:14][C:15]([CH3:16])([CH3:17])[CH3:18])[cH:19]1\n",
            "True:      [c:1]1(-[c:9]2[cH:10][cH:11][c:12]([CH3:13])[cH:14][cH:15]2)[c:2]([C:3]#[N:4])[cH:5][cH:6][cH:7][cH:8]1\n",
            "---\n",
            "Predicted: [NH2:1][c:2]1[cH:3][cH:4][c:5]([C:6]([O:7][CH3:8])=[O:9])[c:10]([S:11](=[O:12])(=[O:13])[NH:14][C:15]([CH3:16])([CH3:17])[CH3:18])[cH:19]1\n",
            "True:      [c:1]1(-[c:9]2[cH:10][cH:11][c:12]([CH3:13])[cH:14][cH:15]2)[c:2]([C:3]#[N:4])[cH:5][cH:6][cH:7][cH:8]1\n",
            "---\n",
            "Predicted: [c:1]1([N:17]2[CH2:12][CH2:13][C:14]3([CH2:15][CH2:16]2)[O:18][CH2:19][CH2:20][O:21]3)[cH:2][cH:3][c:4]([C:5]([O:6][CH2:7][CH3:8])=[O:9])[cH:10][cH:11]1\n",
            "True:      [CH3:1][C:2]([CH3:3])([CH3:4])[O:5][C:6](=[O:7])[N:14]1[CH2:13][CH2:12][CH:11]([CH2:10][CH2:9][OH:8])[CH2:16][CH2:15]1\n",
            "---\n",
            "Predicted: [c:1]1([N:17]2[CH2:12][CH2:13][C:14]3([CH2:15][CH2:16]2)[O:18][CH2:19][CH2:20][O:21]3)[cH:2][cH:3][c:4]([C:5]([O:6][CH2:7][CH3:8])=[O:9])[cH:10][cH:11]1\n",
            "True:      [CH3:1][C:2]([CH3:3])([CH3:4])[O:5][C:6](=[O:7])[N:14]1[CH2:13][CH2:12][CH:11]([CH2:10][CH2:9][OH:8])[CH2:16][CH2:15]1\n",
            "---\n",
            "Predicted: [CH2:1]1[CH2:2][CH:3]([Br:9])[C:4](=[O:8])[N:5]1[O:6][CH3:7]\n",
            "True:      [NH2:1][c:2]1[cH:3][c:4]([Br:5])[cH:6][cH:7][c:8]1[OH:9]\n",
            "---\n",
            "Predicted: [CH2:1]1[CH2:2][CH:3]([Br:9])[C:4](=[O:8])[N:5]1[O:6][CH3:7]\n",
            "True:      [NH2:1][c:2]1[cH:3][c:4]([Br:5])[cH:6][cH:7][c:8]1[OH:9]\n",
            "---\n",
            "Predicted: [OH:1][CH:2]([c:3]1[cH:4][cH:5][cH:6][cH:7][cH:8]1)[c:9]1[cH:10][cH:11][cH:12][cH:13][cH:14]1\n",
            "True:      [NH2:1][c:2]1[cH:3][cH:4][cH:5][c:6]([C:7]([O:8][CH3:9])=[O:10])[c:11]1[NH2:12]\n",
            "---\n",
            "Predicted: [OH:1][CH:2]([c:3]1[cH:4][cH:5][cH:6][cH:7][cH:8]1)[c:9]1[cH:10][cH:11][cH:12][cH:13][cH:14]1\n",
            "True:      [NH2:1][c:2]1[cH:3][cH:4][cH:5][c:6]([C:7]([O:8][CH3:9])=[O:10])[c:11]1[NH2:12]\n",
            "---\n",
            "Predicted: [NH2:1][c:2]1[cH:3][c:4]([Cl:5])[cH:6][c:7]([Cl:8])[c:9]1[OH:10]\n",
            "True:      [c:1]1([O:19][c:18]2[c:10]([CH3:9])[cH:11][cH:12][cH:13][c:14]2[CH:15]2[CH2:16][CH2:17]2)[c:2]([OH:3])[cH:4][c:5]([Cl:6])[n:7][n:8]1\n",
            "---\n",
            "Predicted: [NH2:1][c:2]1[cH:3][c:4]([Cl:5])[cH:6][c:7]([Cl:8])[c:9]1[OH:10]\n",
            "True:      [c:1]1([O:19][c:18]2[c:10]([CH3:9])[cH:11][cH:12][cH:13][c:14]2[CH:15]2[CH2:16][CH2:17]2)[c:2]([OH:3])[cH:4][c:5]([Cl:6])[n:7][n:8]1\n",
            "---\n",
            "Predicted: [c:1]1([N:17]2[CH2:12][CH2:13][C:14]3([CH2:15][CH2:16]2)[O:18][CH2:19][CH2:20][O:21]3)[cH:2][cH:3][c:4]([C:5]([O:6][CH2:7][CH3:8])=[O:9])[cH:10][cH:11]1\n",
            "True:      [C:1](=[O:2])([C:3]([F:4])([F:5])[F:6])[NH:7][CH2:8][CH2:9][CH2:10][CH2:11][CH2:12][C:13](=[O:14])[OH:15]\n",
            "---\n",
            "Predicted: [c:1]1([N:17]2[CH2:12][CH2:13][C:14]3([CH2:15][CH2:16]2)[O:18][CH2:19][CH2:20][O:21]3)[cH:2][cH:3][c:4]([C:5]([O:6][CH2:7][CH3:8])=[O:9])[cH:10][cH:11]1\n",
            "True:      [C:1](=[O:2])([C:3]([F:4])([F:5])[F:6])[NH:7][CH2:8][CH2:9][CH2:10][CH2:11][CH2:12][C:13](=[O:14])[OH:15]\n",
            "---\n",
            "Predicted: [NH2:1][c:2]1[cH:3][c:4]([Cl:5])[cH:6][c:7]([Cl:8])[c:9]1[OH:10]\n",
            "True:      [NH2:1][c:2]1[cH:3][c:4]([NH:5][C:6](=[O:7])[c:8]2[c:9]([Cl:10])[cH:11][c:12]([Cl:13])[cH:14][c:15]2[Cl:16])[cH:17][cH:18][n:19]1\n",
            "---\n",
            "Predicted: [NH2:1][c:2]1[cH:3][c:4]([Cl:5])[cH:6][c:7]([Cl:8])[c:9]1[OH:10]\n",
            "True:      [NH2:1][c:2]1[cH:3][c:4]([NH:5][C:6](=[O:7])[c:8]2[c:9]([Cl:10])[cH:11][c:12]([Cl:13])[cH:14][c:15]2[Cl:16])[cH:17][cH:18][n:19]1\n",
            "---\n",
            "Predicted: [c:1]1([N:17]2[CH2:12][CH2:13][C:14]3([CH2:15][CH2:16]2)[O:18][CH2:19][CH2:20][O:21]3)[cH:2][cH:3][c:4]([C:5]([O:6][CH2:7][CH3:8])=[O:9])[cH:10][cH:11]1\n",
            "True:      [NH2:1][c:2]1[cH:3][cH:4][c:5]2[n:6]([C:7](=[O:8])[O:9][C:10]([CH3:11])([CH3:12])[CH3:13])[n:14][c:15]([CH3:16])[c:17]2[cH:18]1\n",
            "---\n",
            "Predicted: [c:1]1([N:17]2[CH2:12][CH2:13][C:14]3([CH2:15][CH2:16]2)[O:18][CH2:19][CH2:20][O:21]3)[cH:2][cH:3][c:4]([C:5]([O:6][CH2:7][CH3:8])=[O:9])[cH:10][cH:11]1\n",
            "True:      [NH2:1][c:2]1[cH:3][cH:4][c:5]2[n:6]([C:7](=[O:8])[O:9][C:10]([CH3:11])([CH3:12])[CH3:13])[n:14][c:15]([CH3:16])[c:17]2[cH:18]1\n",
            "---\n",
            "Predicted: [NH2:1][c:2]1[cH:3][cH:4][c:5]([C:6]([O:7][CH2:8][CH3:9])([PH2:10]=[O:11])[P:12](=[O:13])([O:14][CH2:15][CH3:16])[O:17][CH2:18][CH3:19])[cH:20][cH:21]1\n",
            "True:      [C:1]([C:2]([CH3:3])([CH3:4])[c:5]1[cH:6][c:7]([C:8]([F:9])([F:10])[F:11])[cH:12][c:13]([C:14]([F:15])([F:16])[F:17])[cH:18]1)(=[O:19])[N:21]([CH3:20])[c:22]1[cH:23][n:24][c:25]([Cl:26])[cH:27][c:28]1-[c:29]1[cH:30][cH:31][cH:32][n:33][c:34]1[CH3:35]\n",
            "---\n",
            "Predicted: [NH2:1][c:2]1[cH:3][cH:4][c:5]([C:6]([O:7][CH2:8][CH3:9])([PH2:10]=[O:11])[P:12](=[O:13])([O:14][CH2:15][CH3:16])[O:17][CH2:18][CH3:19])[cH:20][cH:21]1\n",
            "True:      [C:1]([C:2]([CH3:3])([CH3:4])[c:5]1[cH:6][c:7]([C:8]([F:9])([F:10])[F:11])[cH:12][c:13]([C:14]([F:15])([F:16])[F:17])[cH:18]1)(=[O:19])[N:21]([CH3:20])[c:22]1[cH:23][n:24][c:25]([Cl:26])[cH:27][c:28]1-[c:29]1[cH:30][cH:31][cH:32][n:33][c:34]1[CH3:35]\n",
            "---\n",
            "Predicted: [c:1]1([N:15]2[CH2:14][CH2:13][N:12]([CH2:11][CH2:10][OH:9])[CH2:17][CH2:16]2)[n:2][c:3]([CH3:4])[n:5][c:6]([Cl:7])[cH:8]1\n",
            "True:      [OH:1][C:2](=[O:3])[C:4]([CH3:5])([CH3:6])[O:7][c:8]1[cH:9][cH:10][c:11]([Cl:12])[cH:13][cH:14]1\n",
            "---\n",
            "Predicted: [c:1]1([N:15]2[CH2:14][CH2:13][N:12]([CH2:11][CH2:10][OH:9])[CH2:17][CH2:16]2)[n:2][c:3]([CH3:4])[n:5][c:6]([Cl:7])[cH:8]1\n",
            "True:      [OH:1][C:2](=[O:3])[C:4]([CH3:5])([CH3:6])[O:7][c:8]1[cH:9][cH:10][c:11]([Cl:12])[cH:13][cH:14]1\n",
            "---\n",
            "Predicted: [c:1]1([N:17]2[CH2:12][CH2:13][C:14]3([CH2:15][CH2:16]2)[O:18][CH2:19][CH2:20][O:21]3)[cH:2][cH:3][c:4]([C:5]([O:6][CH2:7][CH3:8])=[O:9])[cH:10][cH:11]1\n",
            "True:      [OH:1][CH2:2][c:3]1[cH:4][c:5]([NH:6][C:7]([CH3:8])=[O:9])[n:10][cH:11][cH:12]1\n",
            "---\n",
            "Predicted: [c:1]1([N:17]2[CH2:12][CH2:13][C:14]3([CH2:15][CH2:16]2)[O:18][CH2:19][CH2:20][O:21]3)[cH:2][cH:3][c:4]([C:5]([O:6][CH2:7][CH3:8])=[O:9])[cH:10][cH:11]1\n",
            "True:      [OH:1][CH2:2][c:3]1[cH:4][c:5]([NH:6][C:7]([CH3:8])=[O:9])[n:10][cH:11][cH:12]1\n",
            "---\n",
            "Predicted: [c:1]1([N:17]2[CH2:12][CH2:13][C:14]3([CH2:15][CH2:16]2)[O:18][CH2:19][CH2:20][O:21]3)[cH:2][cH:3][c:4]([C:5]([O:6][CH2:7][CH3:8])=[O:9])[cH:10][cH:11]1\n",
            "True:      [c:1]1([N:17]2[CH2:12][CH2:13][O:14][CH2:15][CH2:16]2)[c:2]([F:3])[cH:4][c:5]([N+:6](=[O:7])[O-:8])[cH:9][c:10]1[F:11]\n",
            "---\n",
            "Predicted: [c:1]1([N:17]2[CH2:12][CH2:13][C:14]3([CH2:15][CH2:16]2)[O:18][CH2:19][CH2:20][O:21]3)[cH:2][cH:3][c:4]([C:5]([O:6][CH2:7][CH3:8])=[O:9])[cH:10][cH:11]1\n",
            "True:      [c:1]1([N:17]2[CH2:12][CH2:13][O:14][CH2:15][CH2:16]2)[c:2]([F:3])[cH:4][c:5]([N+:6](=[O:7])[O-:8])[cH:9][c:10]1[F:11]\n",
            "---\n",
            "Predicted: [C:1](=[CH2:2])([C:3]([F:4])([F:5])[F:6])[c:7]1[cH:8][c:9]([Cl:10])[cH:11][c:12]([Cl:13])[cH:14]1\n",
            "True:      [NH2:1][c:2]1[cH:3][c:4]([C:5]([O:6][CH3:7])=[O:8])[c:9]([Br:10])[cH:11][cH:12]1\n",
            "---\n",
            "Predicted: [C:1](=[CH2:2])([C:3]([F:4])([F:5])[F:6])[c:7]1[cH:8][c:9]([Cl:10])[cH:11][c:12]([Cl:13])[cH:14]1\n",
            "True:      [NH2:1][c:2]1[cH:3][c:4]([C:5]([O:6][CH3:7])=[O:8])[c:9]([Br:10])[cH:11][cH:12]1\n",
            "---\n",
            "\n",
            "Top-1 SMILES Match Accuracy on 50 valid samples: 0.0800\n"
          ]
        }
      ]
    },
    {
      "cell_type": "code",
      "source": [
        "\n",
        "# Import libraries\n",
        "import torch\n",
        "import torch.nn.functional as F\n",
        "import torch.nn as nn\n",
        "import torch.optim as optim\n",
        "import pandas as pd\n",
        "from rdkit import Chem\n",
        "from rdkit.Chem import rdchem\n",
        "from torch_geometric.data import Data, Dataset\n",
        "from torch_geometric.loader import DataLoader\n",
        "from torch_geometric.nn import GCNConv, global_mean_pool\n",
        "from tqdm import tqdm\n",
        "import matplotlib.pyplot as plt\n",
        "from sklearn.utils import resample\n",
        "\n",
        "\n",
        "# Load and preprocess\n",
        "url = \"https://raw.githubusercontent.com/connorcoley/retrosim/master/retrosim/data/data_processed.csv\"\n",
        "df = pd.read_csv(url)\n",
        "df = df.dropna().sample(n=1000, random_state=42).reset_index(drop=True)\n",
        "df[['reactants', 'products']] = df['rxn_smiles'].str.split('>>', expand=True)\n",
        "\n",
        "# Map products to class labels\n",
        "top_n = 100\n",
        "product_counts = df['products'].value_counts()\n",
        "top_products = product_counts.nlargest(top_n).index.tolist()\n",
        "\n",
        "\n",
        "min_count = product_counts[top_products].min()\n",
        "balanced_dfs = []\n",
        "\n",
        "for prod in top_products:\n",
        "    prod_df = df[df['products'] == prod]\n",
        "    balanced_dfs.append(resample(prod_df, replace=False, n_samples=min_count, random_state=42))\n",
        "\n",
        "df = pd.concat(balanced_dfs).reset_index(drop=True)\n",
        "product_to_idx = {smiles: idx for idx, smiles in enumerate(top_products)}\n",
        "idx_to_product = {v: k for k, v in product_to_idx.items()}\n",
        "\n",
        "# Graph conversion with edge features\n",
        "def smiles_to_graph_with_edge_features(smiles):\n",
        "    mol = Chem.MolFromSmiles(smiles)\n",
        "    if mol is None:\n",
        "        return None\n",
        "    atom_features = []\n",
        "    edge_index = []\n",
        "    edge_attr = []\n",
        "    for atom in mol.GetAtoms():\n",
        "        atom_features.append([\n",
        "            atom.GetAtomicNum(),\n",
        "            atom.GetTotalValence(),\n",
        "            int(atom.GetIsAromatic())\n",
        "        ])\n",
        "    for bond in mol.GetBonds():\n",
        "        i, j = bond.GetBeginAtomIdx(), bond.GetEndAtomIdx()\n",
        "        bond_type = bond.GetBondType()\n",
        "        bond_feats = [\n",
        "            int(bond_type == rdchem.BondType.SINGLE),\n",
        "            int(bond_type == rdchem.BondType.DOUBLE),\n",
        "            int(bond_type == rdchem.BondType.TRIPLE),\n",
        "            int(bond_type == rdchem.BondType.AROMATIC),\n",
        "            int(bond.GetIsConjugated()),\n",
        "            int(bond.IsInRing())\n",
        "        ]\n",
        "        edge_index.extend([[i, j], [j, i]])\n",
        "        edge_attr.extend([bond_feats, bond_feats])\n",
        "    if not atom_features or not edge_index:\n",
        "        return None\n",
        "    x = torch.tensor(atom_features, dtype=torch.float)\n",
        "    edge_index = torch.tensor(edge_index, dtype=torch.long).t().contiguous()\n",
        "    edge_attr = torch.tensor(edge_attr, dtype=torch.float)\n",
        "    return Data(x=x, edge_index=edge_index, edge_attr=edge_attr)\n",
        "\n",
        "# Dataset class for classification\n",
        "class ReactionDatasetClassification(Dataset):\n",
        "    def __init__(self, df):\n",
        "        self.df = df\n",
        "\n",
        "    def __len__(self):\n",
        "        return len(self.df)\n",
        "\n",
        "    def __getitem__(self, idx):\n",
        "        row = self.df.iloc[idx]\n",
        "        data = smiles_to_graph_with_edge_features(row['reactants'])\n",
        "        label = product_to_idx[row['products']]\n",
        "        if data is None:\n",
        "            return self.__getitem__((idx + 1) % self.__len__())\n",
        "        data.y = torch.tensor(label, dtype=torch.long)\n",
        "        return data\n",
        "\n",
        "# GCN model for classification\n",
        "class GCNClassifier(nn.Module):\n",
        "    def __init__(self, hidden_channels=64, num_classes=100):\n",
        "        super(GCNClassifier, self).__init__()\n",
        "        self.conv1 = GCNConv(3, hidden_channels)\n",
        "        self.conv2 = GCNConv(hidden_channels, hidden_channels)\n",
        "        self.lin = nn.Linear(hidden_channels, num_classes)\n",
        "\n",
        "    def forward(self, data):\n",
        "        x, edge_index, batch = data.x, data.edge_index, data.batch\n",
        "        x = F.relu(self.conv1(x, edge_index))\n",
        "        x = F.relu(self.conv2(x, edge_index))\n",
        "        x = global_mean_pool(x, batch)\n",
        "        return self.lin(x)\n",
        "\n",
        "dataset = ReactionDatasetClassification(df)\n",
        "loader = DataLoader(dataset, batch_size=32, shuffle=True)\n",
        "device = torch.device(\"cpu\")\n",
        "model = GCNClassifier(num_classes=len(product_to_idx)).to(device)\n",
        "optimizer = optim.Adam(model.parameters(), lr=0.01)\n",
        "criterion = nn.CrossEntropyLoss()\n",
        "\n",
        "# Training loop with Top-1 accuracy\n",
        "losses = []\n",
        "accuracies = []\n",
        "for epoch in range(10):\n",
        "    model.train()\n",
        "    total_loss = 0\n",
        "    correct = 0\n",
        "    total = 0\n",
        "    for batch in tqdm(loader, desc=f\"Epoch {epoch+1}\"):\n",
        "        batch = batch.to(device)\n",
        "        optimizer.zero_grad()\n",
        "        out = model(batch)\n",
        "        loss = criterion(out, batch.y)\n",
        "        loss.backward()\n",
        "        optimizer.step()\n",
        "        total_loss += loss.item()\n",
        "        pred = out.argmax(dim=1)\n",
        "        correct += (pred == batch.y).sum().item()\n",
        "        total += batch.y.size(0)\n",
        "    avg_loss = total_loss / len(loader)\n",
        "    acc = correct / total\n",
        "    losses.append(avg_loss)\n",
        "    accuracies.append(acc)\n",
        "    print(f\"Epoch {epoch+1}: Loss = {avg_loss:.4f}, Top-1 Accuracy = {acc:.4f}\")\n",
        "\n",
        "# Plotting\n",
        "plt.plot(range(1, 11), losses, label=\"Loss\", marker='o')\n",
        "plt.plot(range(1, 11), accuracies, label=\"Top-1 Accuracy\", marker='s')\n",
        "plt.xlabel(\"Epoch\")\n",
        "plt.ylabel(\"Metric\")\n",
        "plt.title(\"Training Loss & Top-1 Accuracy\")\n",
        "plt.legend()\n",
        "plt.grid(True)\n",
        "plt.show()\n"
      ],
      "metadata": {
        "colab": {
          "base_uri": "https://localhost:8080/",
          "height": 819
        },
        "id": "5D_qfTESYB6R",
        "outputId": "6e29ea42-d3a3-41c5-87eb-e376f165a39d"
      },
      "execution_count": 14,
      "outputs": [
        {
          "output_type": "stream",
          "name": "stderr",
          "text": [
            "Epoch 1: 100%|██████████| 4/4 [00:00<00:00, 24.87it/s]\n"
          ]
        },
        {
          "output_type": "stream",
          "name": "stdout",
          "text": [
            "Epoch 1: Loss = 4.7933, Top-1 Accuracy = 0.0000\n"
          ]
        },
        {
          "output_type": "stream",
          "name": "stderr",
          "text": [
            "Epoch 2: 100%|██████████| 4/4 [00:00<00:00, 30.05it/s]\n"
          ]
        },
        {
          "output_type": "stream",
          "name": "stdout",
          "text": [
            "Epoch 2: Loss = 4.6240, Top-1 Accuracy = 0.0200\n"
          ]
        },
        {
          "output_type": "stream",
          "name": "stderr",
          "text": [
            "Epoch 3: 100%|██████████| 4/4 [00:00<00:00, 31.26it/s]\n"
          ]
        },
        {
          "output_type": "stream",
          "name": "stdout",
          "text": [
            "Epoch 3: Loss = 4.6186, Top-1 Accuracy = 0.0100\n"
          ]
        },
        {
          "output_type": "stream",
          "name": "stderr",
          "text": [
            "Epoch 4: 100%|██████████| 4/4 [00:00<00:00, 31.07it/s]\n"
          ]
        },
        {
          "output_type": "stream",
          "name": "stdout",
          "text": [
            "Epoch 4: Loss = 4.6134, Top-1 Accuracy = 0.0200\n"
          ]
        },
        {
          "output_type": "stream",
          "name": "stderr",
          "text": [
            "Epoch 5: 100%|██████████| 4/4 [00:00<00:00, 30.13it/s]\n"
          ]
        },
        {
          "output_type": "stream",
          "name": "stdout",
          "text": [
            "Epoch 5: Loss = 4.6037, Top-1 Accuracy = 0.0100\n"
          ]
        },
        {
          "output_type": "stream",
          "name": "stderr",
          "text": [
            "Epoch 6: 100%|██████████| 4/4 [00:00<00:00, 29.08it/s]\n"
          ]
        },
        {
          "output_type": "stream",
          "name": "stdout",
          "text": [
            "Epoch 6: Loss = 4.5686, Top-1 Accuracy = 0.0200\n"
          ]
        },
        {
          "output_type": "stream",
          "name": "stderr",
          "text": [
            "Epoch 7: 100%|██████████| 4/4 [00:00<00:00, 30.25it/s]\n"
          ]
        },
        {
          "output_type": "stream",
          "name": "stdout",
          "text": [
            "Epoch 7: Loss = 4.5744, Top-1 Accuracy = 0.0300\n"
          ]
        },
        {
          "output_type": "stream",
          "name": "stderr",
          "text": [
            "Epoch 8: 100%|██████████| 4/4 [00:00<00:00, 28.09it/s]\n"
          ]
        },
        {
          "output_type": "stream",
          "name": "stdout",
          "text": [
            "Epoch 8: Loss = 4.5631, Top-1 Accuracy = 0.0200\n"
          ]
        },
        {
          "output_type": "stream",
          "name": "stderr",
          "text": [
            "Epoch 9: 100%|██████████| 4/4 [00:00<00:00, 30.93it/s]\n"
          ]
        },
        {
          "output_type": "stream",
          "name": "stdout",
          "text": [
            "Epoch 9: Loss = 4.5751, Top-1 Accuracy = 0.0100\n"
          ]
        },
        {
          "output_type": "stream",
          "name": "stderr",
          "text": [
            "Epoch 10: 100%|██████████| 4/4 [00:00<00:00, 31.35it/s]\n"
          ]
        },
        {
          "output_type": "stream",
          "name": "stdout",
          "text": [
            "Epoch 10: Loss = 4.5523, Top-1 Accuracy = 0.0100\n"
          ]
        },
        {
          "output_type": "display_data",
          "data": {
            "text/plain": [
              "<Figure size 640x480 with 1 Axes>"
            ],
            "image/png": "[encoded data removed]"
          },
          "metadata": {}
        }
      ]
    },
    {
      "cell_type": "code",
      "source": [
        "import networkx as nx\n",
        "\n",
        "def visualize_gnn_architecture():\n",
        "    layers = [\n",
        "        \"Input Features\\n(Node, Edge)\",\n",
        "        \"GCNConv Layer 1\\n(3 → 64)\",\n",
        "        \"ReLU\",\n",
        "        \"GCNConv Layer 2\\n(64 → 64)\",\n",
        "        \"ReLU\",\n",
        "        \"Global Mean Pool\",\n",
        "        \"Linear Layer\\n(64 → 100)\",\n",
        "        \"Output\\n(Product Class)\"\n",
        "    ]\n",
        "    G = nx.DiGraph()\n",
        "    for i in range(len(layers) - 1):\n",
        "        G.add_edge(layers[i], layers[i + 1])\n",
        "    pos = nx.spring_layout(G, seed=42)\n",
        "    plt.figure(figsize=(12, 6))\n",
        "    nx.draw(G, pos, with_labels=True, node_size=3000, node_color='lightblue', edge_color='gray', font_size=10)\n",
        "    plt.title(\"GNN Architecture Visualization\")\n",
        "    plt.show()\n",
        "\n",
        "visualize_gnn_architecture()\n"
      ],
      "metadata": {
        "colab": {
          "base_uri": "https://localhost:8080/",
          "height": 659
        },
        "id": "iTsXNfvTZmKf",
        "outputId": "2faa453e-5003-4b38-cafe-43cf6a890272"
      },
      "execution_count": 10,
      "outputs": [
        {
          "output_type": "display_data",
          "data": {
            "text/plain": [
              "<Figure size 1200x600 with 1 Axes>"
            ],
            "image/png": "[encoded data removed]"
          },
          "metadata": {}
        }
      ]
    }
  ]
}